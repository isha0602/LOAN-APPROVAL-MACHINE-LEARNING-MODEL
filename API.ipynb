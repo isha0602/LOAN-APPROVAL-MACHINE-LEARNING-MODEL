{
 "cells": [
  {
   "cell_type": "code",
   "execution_count": 1,
   "metadata": {},
   "outputs": [
    {
     "name": "stderr",
     "output_type": "stream",
     "text": [
      "D:\\phirsenaya_anaconda\\lib\\site-packages\\sklearn\\externals\\joblib\\__init__.py:15: FutureWarning: sklearn.externals.joblib is deprecated in 0.21 and will be removed in 0.23. Please import this functionality directly from joblib, which can be installed with: pip install joblib. If this warning is raised when loading pickled models, you may need to re-serialize those models with scikit-learn 0.21+.\n",
      "  warnings.warn(msg, category=FutureWarning)\n"
     ]
    }
   ],
   "source": [
    "import pickle\n",
    "from sklearn.externals import joblib\n",
    "import pandas as pd\n",
    "from sklearn.preprocessing import MinMaxScaler"
   ]
  },
  {
   "cell_type": "code",
   "execution_count": 2,
   "metadata": {},
   "outputs": [],
   "source": [
    "#import pickle\n",
    "#from sklearn.externals import joblib\n",
    "filename = 'alladin_model.pkl'\n",
    "mdl=joblib.load('alladin_model.pkl')"
   ]
  },
  {
   "cell_type": "code",
   "execution_count": 3,
   "metadata": {},
   "outputs": [],
   "source": [
    "X =pd.read_excel('D:\\\\dataset\\\\val.xlsx')\n"
   ]
  },
  {
   "cell_type": "code",
   "execution_count": 4,
   "metadata": {},
   "outputs": [],
   "source": [
    "from sklearn.preprocessing import StandardScaler"
   ]
  },
  {
   "cell_type": "code",
   "execution_count": 5,
   "metadata": {},
   "outputs": [],
   "source": [
    "sc =StandardScaler()"
   ]
  },
  {
   "cell_type": "code",
   "execution_count": 6,
   "metadata": {},
   "outputs": [],
   "source": [
    "X_test=sc.fit_transform(X)"
   ]
  },
  {
   "cell_type": "code",
   "execution_count": 7,
   "metadata": {},
   "outputs": [
    {
     "data": {
      "text/plain": [
       "array([[ 0.11508707,  0.08227836, -0.23098522, -0.11960311,  0.25      ,\n",
       "         0.46291005, -0.25      ,  0.25      , -0.5547002 ,  0.5547002 ,\n",
       "         0.5547002 , -0.5547002 ,  0.36514837, -0.36514837,  2.1602469 ,\n",
       "        -0.36514837, -1.54919334],\n",
       "       [-0.86315301, -0.5194045 , -0.73831362, -0.93290425,  0.25      ,\n",
       "         0.46291005, -0.25      ,  0.25      , -0.5547002 ,  0.5547002 ,\n",
       "         0.5547002 , -0.5547002 , -2.73861279,  2.73861279, -0.46291005,\n",
       "        -0.36514837,  0.64549722],\n",
       "       [-0.86315301, -0.67790214,  0.05497575, -0.22454519,  0.25      ,\n",
       "         0.46291005, -0.25      ,  0.25      , -0.5547002 ,  0.5547002 ,\n",
       "        -1.80277564,  1.80277564,  0.36514837, -0.36514837, -0.46291005,\n",
       "        -0.36514837,  0.64549722],\n",
       "       [-0.86315301,  0.62086624, -0.73831362,  0.05092778,  0.25      ,\n",
       "         0.46291005, -0.25      ,  0.25      ,  1.80277564, -1.80277564,\n",
       "         0.5547002 , -0.5547002 ,  0.36514837, -0.36514837, -0.46291005,\n",
       "        -0.36514837,  0.64549722],\n",
       "       [ 1.09332714,  0.39927363,  0.67332429,  1.70376558,  0.25      ,\n",
       "         0.46291005, -0.25      ,  0.25      , -0.5547002 ,  0.5547002 ,\n",
       "         0.5547002 , -0.5547002 , -2.73861279,  2.73861279, -0.46291005,\n",
       "        -0.36514837,  0.64549722],\n",
       "       [-0.86315301, -0.7729247 , -0.22829382, -0.5524892 ,  0.25      ,\n",
       "         0.46291005, -0.25      ,  0.25      , -0.5547002 ,  0.5547002 ,\n",
       "        -1.80277564,  1.80277564,  0.36514837, -0.36514837, -0.46291005,\n",
       "        -0.36514837,  0.64549722],\n",
       "       [ 2.07156722, -0.50572125,  0.10409375,  0.2739297 ,  0.25      ,\n",
       "        -2.1602469 , -0.25      ,  0.25      , -0.5547002 ,  0.5547002 ,\n",
       "         0.5547002 , -0.5547002 ,  0.36514837, -0.36514837, -0.46291005,\n",
       "         2.73861279, -1.54919334],\n",
       "       [ 1.09332714, -0.13703371, -0.22492957,  0.40510731,  0.25      ,\n",
       "         0.46291005, -0.25      ,  0.25      , -0.5547002 ,  0.5547002 ,\n",
       "         0.5547002 , -0.5547002 ,  0.36514837, -0.36514837, -0.46291005,\n",
       "        -0.36514837,  0.64549722],\n",
       "       [ 0.11508707,  3.22106362,  2.95159213,  2.77942193,  0.25      ,\n",
       "         0.46291005, -0.25      ,  0.25      , -0.5547002 ,  0.5547002 ,\n",
       "         0.5547002 , -0.5547002 ,  0.36514837, -0.36514837, -0.46291005,\n",
       "         2.73861279, -1.54919334],\n",
       "       [ 1.09332714, -0.44338645, -0.50281635, -0.88043321,  0.25      ,\n",
       "         0.46291005, -0.25      ,  0.25      , -0.5547002 ,  0.5547002 ,\n",
       "         0.5547002 , -0.5547002 ,  0.36514837, -0.36514837, -0.46291005,\n",
       "        -0.36514837,  0.64549722],\n",
       "       [ 1.09332714, -0.49165791,  1.98874474,  0.82487564,  0.25      ,\n",
       "         0.46291005, -0.25      ,  0.25      , -0.5547002 ,  0.5547002 ,\n",
       "         0.5547002 , -0.5547002 ,  0.36514837, -0.36514837, -0.46291005,\n",
       "        -0.36514837,  0.64549722],\n",
       "       [-0.86315301, -0.95536802,  0.21713244, -0.30325175,  0.25      ,\n",
       "         0.46291005, -0.25      ,  0.25      ,  1.80277564, -1.80277564,\n",
       "         0.5547002 , -0.5547002 ,  0.36514837, -0.36514837,  2.1602469 ,\n",
       "        -0.36514837, -1.54919334],\n",
       "       [ 1.09332714, -1.16593801, -0.37295643, -1.57567451, -4.        ,\n",
       "         0.46291005, -0.25      ,  0.25      , -0.5547002 ,  0.5547002 ,\n",
       "         0.5547002 , -0.5547002 ,  0.36514837, -0.36514837, -0.46291005,\n",
       "        -0.36514837,  0.64549722],\n",
       "       [-0.86315301,  0.22177148, -0.73831362, -0.15895639,  0.25      ,\n",
       "         0.46291005, -0.25      ,  0.25      ,  1.80277564, -1.80277564,\n",
       "         0.5547002 , -0.5547002 ,  0.36514837, -0.36514837, -0.46291005,\n",
       "        -0.36514837,  0.64549722],\n",
       "       [-0.86315301, -0.32555848, -0.73831362, -0.80172665,  0.25      ,\n",
       "        -2.1602469 ,  4.        , -4.        ,  1.80277564, -1.80277564,\n",
       "         0.5547002 , -0.5547002 ,  0.36514837, -0.36514837, -0.46291005,\n",
       "        -0.36514837,  0.64549722],\n",
       "       [-0.86315301,  0.19782579, -0.73831362, -0.05401431,  0.25      ,\n",
       "         0.46291005, -0.25      ,  0.25      , -0.5547002 ,  0.5547002 ,\n",
       "        -1.80277564,  1.80277564,  0.36514837, -0.36514837,  2.1602469 ,\n",
       "        -0.36514837, -1.54919334],\n",
       "       [-0.86315301,  1.25181605, -0.73831362, -0.43442936,  0.25      ,\n",
       "        -2.1602469 , -0.25      ,  0.25      , -0.5547002 ,  0.5547002 ,\n",
       "        -1.80277564,  1.80277564,  0.36514837, -0.36514837, -0.46291005,\n",
       "        -0.36514837,  0.64549722]])"
      ]
     },
     "execution_count": 7,
     "metadata": {},
     "output_type": "execute_result"
    }
   ],
   "source": [
    "X_test"
   ]
  },
  {
   "cell_type": "code",
   "execution_count": 9,
   "metadata": {},
   "outputs": [
    {
     "data": {
      "text/plain": [
       "array([ True,  True,  True,  True,  True,  True, False,  True,  True,\n",
       "        True,  True,  True,  True,  True, False,  True, False])"
      ]
     },
     "execution_count": 9,
     "metadata": {},
     "output_type": "execute_result"
    }
   ],
   "source": [
    "y_pred=mdl.predict(X_test)\n",
    "y_pred=(y_pred>0.5)\n",
    "y_pred"
   ]
  },
  {
   "cell_type": "code",
   "execution_count": 10,
   "metadata": {},
   "outputs": [],
   "source": [
    "predict=pd.DataFrame(y_pred,columns=['Status'])\n",
    "predict=predict.replace({True:'Approved',False:'Rejected'})"
   ]
  },
  {
   "cell_type": "code",
   "execution_count": 11,
   "metadata": {},
   "outputs": [
    {
     "data": {
      "text/html": [
       "<div>\n",
       "<style scoped>\n",
       "    .dataframe tbody tr th:only-of-type {\n",
       "        vertical-align: middle;\n",
       "    }\n",
       "\n",
       "    .dataframe tbody tr th {\n",
       "        vertical-align: top;\n",
       "    }\n",
       "\n",
       "    .dataframe thead th {\n",
       "        text-align: right;\n",
       "    }\n",
       "</style>\n",
       "<table border=\"1\" class=\"dataframe\">\n",
       "  <thead>\n",
       "    <tr style=\"text-align: right;\">\n",
       "      <th></th>\n",
       "      <th>Status</th>\n",
       "    </tr>\n",
       "  </thead>\n",
       "  <tbody>\n",
       "    <tr>\n",
       "      <th>0</th>\n",
       "      <td>Approved</td>\n",
       "    </tr>\n",
       "    <tr>\n",
       "      <th>1</th>\n",
       "      <td>Approved</td>\n",
       "    </tr>\n",
       "    <tr>\n",
       "      <th>2</th>\n",
       "      <td>Approved</td>\n",
       "    </tr>\n",
       "    <tr>\n",
       "      <th>3</th>\n",
       "      <td>Approved</td>\n",
       "    </tr>\n",
       "    <tr>\n",
       "      <th>4</th>\n",
       "      <td>Approved</td>\n",
       "    </tr>\n",
       "    <tr>\n",
       "      <th>5</th>\n",
       "      <td>Approved</td>\n",
       "    </tr>\n",
       "    <tr>\n",
       "      <th>6</th>\n",
       "      <td>Rejected</td>\n",
       "    </tr>\n",
       "    <tr>\n",
       "      <th>7</th>\n",
       "      <td>Approved</td>\n",
       "    </tr>\n",
       "    <tr>\n",
       "      <th>8</th>\n",
       "      <td>Approved</td>\n",
       "    </tr>\n",
       "    <tr>\n",
       "      <th>9</th>\n",
       "      <td>Approved</td>\n",
       "    </tr>\n",
       "    <tr>\n",
       "      <th>10</th>\n",
       "      <td>Approved</td>\n",
       "    </tr>\n",
       "    <tr>\n",
       "      <th>11</th>\n",
       "      <td>Approved</td>\n",
       "    </tr>\n",
       "    <tr>\n",
       "      <th>12</th>\n",
       "      <td>Approved</td>\n",
       "    </tr>\n",
       "    <tr>\n",
       "      <th>13</th>\n",
       "      <td>Approved</td>\n",
       "    </tr>\n",
       "    <tr>\n",
       "      <th>14</th>\n",
       "      <td>Rejected</td>\n",
       "    </tr>\n",
       "    <tr>\n",
       "      <th>15</th>\n",
       "      <td>Approved</td>\n",
       "    </tr>\n",
       "    <tr>\n",
       "      <th>16</th>\n",
       "      <td>Rejected</td>\n",
       "    </tr>\n",
       "  </tbody>\n",
       "</table>\n",
       "</div>"
      ],
      "text/plain": [
       "      Status\n",
       "0   Approved\n",
       "1   Approved\n",
       "2   Approved\n",
       "3   Approved\n",
       "4   Approved\n",
       "5   Approved\n",
       "6   Rejected\n",
       "7   Approved\n",
       "8   Approved\n",
       "9   Approved\n",
       "10  Approved\n",
       "11  Approved\n",
       "12  Approved\n",
       "13  Approved\n",
       "14  Rejected\n",
       "15  Approved\n",
       "16  Rejected"
      ]
     },
     "execution_count": 11,
     "metadata": {},
     "output_type": "execute_result"
    }
   ],
   "source": [
    "predict"
   ]
  },
  {
   "cell_type": "code",
   "execution_count": 12,
   "metadata": {},
   "outputs": [
    {
     "data": {
      "text/plain": [
       "['scalers.pkl']"
      ]
     },
     "execution_count": 12,
     "metadata": {},
     "output_type": "execute_result"
    }
   ],
   "source": [
    " filename = 'scalers.pkl'\n",
    "joblib.dump(predict,filename)"
   ]
  },
  {
   "cell_type": "code",
   "execution_count": null,
   "metadata": {},
   "outputs": [],
   "source": []
  },
  {
   "cell_type": "code",
   "execution_count": null,
   "metadata": {},
   "outputs": [],
   "source": []
  }
 ],
 "metadata": {
  "kernelspec": {
   "display_name": "Python 3",
   "language": "python",
   "name": "python3"
  },
  "language_info": {
   "codemirror_mode": {
    "name": "ipython",
    "version": 3
   },
   "file_extension": ".py",
   "mimetype": "text/x-python",
   "name": "python",
   "nbconvert_exporter": "python",
   "pygments_lexer": "ipython3",
   "version": "3.6.4"
  }
 },
 "nbformat": 4,
 "nbformat_minor": 2
}
